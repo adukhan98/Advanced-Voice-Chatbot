{
  "cells": [
    {
      "cell_type": "markdown",
      "metadata": {
        "id": "view-in-github",
        "colab_type": "text"
      },
      "source": [
        "<a href=\"https://colab.research.google.com/github/adukhan98/Advanced-Voice-Chatbot/blob/main/VoiceChatbot_Using_Gradio%2C_Whisper%2C_OpenAi_and_eleven_Labs.ipynb\" target=\"_parent\"><img src=\"https://colab.research.google.com/assets/colab-badge.svg\" alt=\"Open In Colab\"/></a>"
      ]
    },
    {
      "cell_type": "markdown",
      "metadata": {
        "id": "akKo1idoWRpT"
      },
      "source": [
        "# Simple Voice Chatbot with OpenAI API, Gradio and Whisper"
      ]
    },
    {
      "cell_type": "markdown",
      "metadata": {
        "id": "QcpnBQx6WXlh"
      },
      "source": [
        "## ⚙️ Install dependencies"
      ]
    },
    {
      "cell_type": "code",
      "execution_count": null,
      "metadata": {
        "id": "0R3w04uNV__q"
      },
      "outputs": [],
      "source": [
        "!pip install -U -q openai-whisper\n",
        "!pip install -q gradio\n",
        "!pip install -q openai\n",
        "!pip install -q elevenlabs"
      ]
    },
    {
      "cell_type": "markdown",
      "metadata": {
        "id": "pxZmHCkaXQA0"
      },
      "source": [
        "## 🔌 Configure OpenAI and ElevenLabs Connection"
      ]
    },
    {
      "cell_type": "code",
      "execution_count": null,
      "metadata": {
        "colab": {
          "base_uri": "https://localhost:8080/"
        },
        "id": "tRykoQ5HXU6l",
        "outputId": "27b86df1-b930-483f-faf8-22fc61db0aa9"
      },
      "outputs": [
        {
          "name": "stdout",
          "output_type": "stream",
          "text": [
            "Enter your OpenAI API Key: ··········\n"
          ]
        }
      ],
      "source": [
        "import openai\n",
        "from getpass import getpass\n",
        "\n",
        "openai.api_key = getpass('Enter your OpenAI API Key: ')"
      ]
    },
    {
      "cell_type": "code",
      "execution_count": null,
      "metadata": {
        "colab": {
          "base_uri": "https://localhost:8080/"
        },
        "id": "buB1L5nv_Edq",
        "outputId": "94ff049a-9be9-4d47-81f3-945bbe8bbb0e"
      },
      "outputs": [
        {
          "name": "stdout",
          "output_type": "stream",
          "text": [
            "Enter your ElevenLabs API Key: ··········\n"
          ]
        }
      ],
      "source": [
        "from elevenlabs import set_api_key\n",
        "from getpass import getpass\n",
        "\n",
        "set_api_key(getpass('Enter your ElevenLabs API Key: '))"
      ]
    },
    {
      "cell_type": "markdown",
      "metadata": {
        "id": "VjCxb4Bs07zp"
      },
      "source": [
        "## 🔊 Initiate Whisper"
      ]
    },
    {
      "cell_type": "code",
      "execution_count": null,
      "metadata": {
        "id": "NoONXCIA1Ec-"
      },
      "outputs": [],
      "source": [
        "import whisper\n",
        "\n",
        "model = whisper.load_model(\"base\")"
      ]
    },
    {
      "cell_type": "markdown",
      "metadata": {
        "id": "6YI1YGsRXvV_"
      },
      "source": [
        "## 🚀 Main Code\n"
      ]
    },
    {
      "cell_type": "code",
      "execution_count": null,
      "metadata": {
        "id": "og1A3RKpWn8B"
      },
      "outputs": [],
      "source": [
        "from typing import Optional\n",
        "\n",
        "\n",
        "class Chat:\n",
        "\n",
        "    def __init__(self, system: Optional[str] = None):\n",
        "        self.system = system\n",
        "        self.messages = []\n",
        "\n",
        "        if system is not None:\n",
        "            self.messages.append({\n",
        "                \"role\": \"system\",\n",
        "                \"content\": system\n",
        "            })\n",
        "\n",
        "    def prompt(self, content: str) -> str:\n",
        "          self.messages.append({\n",
        "              \"role\": \"user\",\n",
        "              \"content\": content\n",
        "          })\n",
        "          response = chat.completions.create(\n",
        "              model=\"gpt-3.5-turbo\",\n",
        "              messages=self.messages\n",
        "          )\n",
        "          response_content = response[\"choices\"][0][\"message\"][\"content\"]\n",
        "          self.messages.append({\n",
        "              \"role\": \"assistant\",\n",
        "              \"content\": response_content\n",
        "          })\n",
        "          return response_content"
      ]
    },
    {
      "cell_type": "code",
      "execution_count": null,
      "metadata": {
        "id": "l6REbRI-X2va"
      },
      "outputs": [],
      "source": [
        "from elevenlabs import generate, play\n",
        "\n",
        "import gradio as gr\n",
        "\n",
        "\n",
        "chat = Chat(system=\"You are a helpful assistant.\")\n",
        "\n",
        "\n",
        "def run_text_prompt(message, chat_history):\n",
        "    bot_message = chat.prompt(content=message)\n",
        "\n",
        "    audio = generate(\n",
        "        text=bot_message,\n",
        "        voice=\"Bella\"\n",
        "    )\n",
        "\n",
        "    play(audio, notebook=True)\n",
        "\n",
        "    chat_history.append((message, bot_message))\n",
        "    return \"\", chat_history\n",
        "\n",
        "\n",
        "def run_audio_prompt(audio, chat_history):\n",
        "    if audio is None:\n",
        "        return None, chat_history\n",
        "\n",
        "    message_transcription = model.transcribe(audio)[\"text\"]\n",
        "    _, chat_history = run_text_prompt(message_transcription, chat_history)\n",
        "    return None, chat_history\n",
        "\n",
        "\n",
        "with gr.Blocks() as demo:\n",
        "    chatbot = gr.Chatbot()\n",
        "\n",
        "    msg = gr.Textbox()\n",
        "    msg.submit(run_text_prompt, [msg, chatbot], [msg, chatbot])\n",
        "\n",
        "    with gr.Row():\n",
        "        audio = gr.Audio( type=\"filepath\")\n",
        "\n",
        "        send_audio_button = gr.Button(\"Send Audio\", interactive=True)\n",
        "        send_audio_button.click(run_audio_prompt, [audio, chatbot], [audio, chatbot])\n",
        "\n",
        "demo.launch(debug=True)"
      ]
    },
    {
      "cell_type": "code",
      "execution_count": null,
      "metadata": {
        "id": "gOvvLSlJrkQm"
      },
      "outputs": [],
      "source": []
    }
  ],
  "metadata": {
    "colab": {
      "provenance": [],
      "include_colab_link": true
    },
    "kernelspec": {
      "display_name": "Python 3",
      "name": "python3"
    },
    "language_info": {
      "name": "python"
    }
  },
  "nbformat": 4,
  "nbformat_minor": 0
}